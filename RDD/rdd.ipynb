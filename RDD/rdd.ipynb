{
 "cells": [
  {
   "cell_type": "code",
   "execution_count": 5,
   "metadata": {},
   "outputs": [],
   "source": [
    "from pyspark.sql import SparkSession\n",
    "\n",
    "spark = SparkSession.builder.getOrCreate()\n",
    "\n",
    "collection = [1,\"two\",3.0,(\"four\", 4), {\"five\", 5}]\n",
    "\n",
    "sc = spark.sparkContext\n",
    "\n",
    "collection_rdd = sc.parallelize(collection)"
   ]
  },
  {
   "cell_type": "code",
   "execution_count": 6,
   "metadata": {},
   "outputs": [
    {
     "name": "stderr",
     "output_type": "stream",
     "text": [
      "                                                                                \r"
     ]
    },
    {
     "data": {
      "text/plain": [
       "[2, 'two', 4.0, ('four', 4), {5, 'five'}]"
      ]
     },
     "execution_count": 6,
     "metadata": {},
     "output_type": "execute_result"
    }
   ],
   "source": [
    "def add_one(value):\n",
    "    try:\n",
    "        return value + 1\n",
    "    except TypeError:\n",
    "        return value\n",
    "\n",
    "collection_rdd = collection_rdd.map(add_one)\n",
    "\n",
    "collection_rdd.collect()"
   ]
  },
  {
   "cell_type": "code",
   "execution_count": 8,
   "metadata": {},
   "outputs": [
    {
     "name": "stdout",
     "output_type": "stream",
     "text": [
      "[2, 4.0]\n"
     ]
    }
   ],
   "source": [
    "collection_rdd = collection_rdd.filter(\n",
    "    lambda elem: isinstance(elem, (float, int))\n",
    ")\n",
    "\n",
    "print(collection_rdd.collect())"
   ]
  },
  {
   "cell_type": "code",
   "execution_count": 9,
   "metadata": {},
   "outputs": [
    {
     "name": "stdout",
     "output_type": "stream",
     "text": [
      "24\n"
     ]
    }
   ],
   "source": [
    "from operator import add\n",
    "\n",
    "collection_rdd = sc.parallelize([4,7,9,1,3])\n",
    "\n",
    "print(collection_rdd.reduce(add))"
   ]
  },
  {
   "cell_type": "code",
   "execution_count": 15,
   "metadata": {},
   "outputs": [
    {
     "name": "stdout",
     "output_type": "stream",
     "text": [
      "+--------+\n",
      "|fraction|\n",
      "+--------+\n",
      "|  [0, 1]|\n",
      "|  [0, 2]|\n",
      "|  [0, 3]|\n",
      "|  [0, 4]|\n",
      "|  [0, 5]|\n",
      "|  [0, 6]|\n",
      "|  [0, 7]|\n",
      "|  [0, 8]|\n",
      "|  [0, 9]|\n",
      "| [0, 10]|\n",
      "| [0, 11]|\n",
      "| [0, 12]|\n",
      "| [0, 13]|\n",
      "| [0, 14]|\n",
      "| [0, 15]|\n",
      "| [0, 16]|\n",
      "| [0, 17]|\n",
      "| [0, 18]|\n",
      "| [0, 19]|\n",
      "| [0, 20]|\n",
      "+--------+\n",
      "only showing top 20 rows\n",
      "\n"
     ]
    }
   ],
   "source": [
    "import pyspark.sql.functions as F\n",
    "import pyspark.sql.types as T\n",
    "\n",
    "fractions = [[x,y] for x in range(100) for y in range(1,100)]\n",
    "\n",
    "frac_df = spark.createDataFrame(fractions, [\"numerator\", \"denominator\"])\n",
    "\n",
    "frac_df = frac_df.select(\n",
    "    F.array(F.col(\"numerator\"), F.col(\"denominator\")).alias(\"fraction\")\n",
    ")\n",
    "\n",
    "frac_df.show()"
   ]
  },
  {
   "cell_type": "code",
   "execution_count": 18,
   "metadata": {},
   "outputs": [],
   "source": [
    "from fractions import Fraction\n",
    "from typing import Tuple, Optional\n",
    "\n",
    "Frac = Tuple[int, int]\n",
    "\n",
    "def py_reduce_fraction(frac: Frac) -> Optional[Frac]:\n",
    "    num, denom = frac\n",
    "    if denom:\n",
    "        answer = Fraction(num, denom)\n",
    "        return answer.numerator, answer.denominator\n",
    "    return None\n",
    "\n",
    "assert py_reduce_fraction((3,6)) == (1,2)\n",
    "assert py_reduce_fraction((1,0)) is None\n",
    "\n",
    "def py_fraction_to_float(frac: Frac) -> Optional[float]:\n",
    "    num, demon = frac\n",
    "    if demon:\n",
    "        return num / demon\n",
    "    return None\n",
    "\n",
    "assert py_fraction_to_float((2,8)) == 0.25\n",
    "assert py_fraction_to_float((10,0)) is None"
   ]
  },
  {
   "cell_type": "code",
   "execution_count": 22,
   "metadata": {},
   "outputs": [
    {
     "name": "stdout",
     "output_type": "stream",
     "text": [
      "+--------+----------------+\n",
      "|fraction|reduced_fraction|\n",
      "+--------+----------------+\n",
      "|[0, 1]  |[0, 1]          |\n",
      "|[0, 2]  |[0, 1]          |\n",
      "|[0, 3]  |[0, 1]          |\n",
      "|[0, 4]  |[0, 1]          |\n",
      "|[0, 5]  |[0, 1]          |\n",
      "+--------+----------------+\n",
      "only showing top 5 rows\n",
      "\n"
     ]
    }
   ],
   "source": [
    "SparkFrac = T.ArrayType(T.LongType())\n",
    "\n",
    "reduce_fraction = F.udf(py_reduce_fraction, SparkFrac)\n",
    "\n",
    "frac_df = frac_df.withColumn(\"reduced_fraction\", reduce_fraction(F.col(\"fraction\")))\n",
    "\n",
    "frac_df.show(5, False)"
   ]
  },
  {
   "cell_type": "code",
   "execution_count": 25,
   "metadata": {},
   "outputs": [
    {
     "name": "stdout",
     "output_type": "stream",
     "text": [
      "+----------------+--------------------+\n",
      "|reduced_fraction|      fraction_float|\n",
      "+----------------+--------------------+\n",
      "|         [3, 50]|                0.06|\n",
      "|         [3, 67]| 0.04477611940298507|\n",
      "|         [7, 76]| 0.09210526315789473|\n",
      "|         [3, 76]|0.039473684210526314|\n",
      "|         [2, 85]|0.023529411764705882|\n",
      "+----------------+--------------------+\n",
      "only showing top 5 rows\n",
      "\n"
     ]
    }
   ],
   "source": [
    "@F.udf(T.DoubleType())\n",
    "def fraction_to_float(frac: Frac) -> Optional[float]:\n",
    "    num, denom = frac\n",
    "    if denom:\n",
    "        return num / denom\n",
    "    return None\n",
    "\n",
    "frac_df = frac_df.withColumn(\n",
    "    \"fraction_float\", fraction_to_float(F.col(\"reduced_fraction\"))\n",
    ")\n",
    "\n",
    "frac_df.select(\"reduced_fraction\", \"fraction_float\").distinct().show(5)"
   ]
  }
 ],
 "metadata": {
  "kernelspec": {
   "display_name": "pyspark",
   "language": "python",
   "name": "python3"
  },
  "language_info": {
   "codemirror_mode": {
    "name": "ipython",
    "version": 3
   },
   "file_extension": ".py",
   "mimetype": "text/x-python",
   "name": "python",
   "nbconvert_exporter": "python",
   "pygments_lexer": "ipython3",
   "version": "3.8.18"
  }
 },
 "nbformat": 4,
 "nbformat_minor": 2
}
