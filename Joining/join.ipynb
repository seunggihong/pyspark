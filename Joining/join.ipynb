{
 "cells": [
  {
   "cell_type": "markdown",
   "metadata": {},
   "source": [
    "### Make Data with PySpark"
   ]
  },
  {
   "cell_type": "code",
   "execution_count": 1,
   "metadata": {},
   "outputs": [
    {
     "name": "stderr",
     "output_type": "stream",
     "text": [
      "24/01/16 23:37:49 WARN Utils: Your hostname, hongseung-giui-MacBookPro.local resolves to a loopback address: 127.0.0.1; using 192.0.0.2 instead (on interface en0)\n",
      "24/01/16 23:37:49 WARN Utils: Set SPARK_LOCAL_IP if you need to bind to another address\n",
      "Setting default log level to \"WARN\".\n",
      "To adjust logging level use sc.setLogLevel(newLevel). For SparkR, use setLogLevel(newLevel).\n",
      "24/01/16 23:37:49 WARN NativeCodeLoader: Unable to load native-hadoop library for your platform... using builtin-java classes where applicable\n"
     ]
    }
   ],
   "source": [
    "from pyspark.sql import SparkSession\n",
    "import pyspark.sql.functions as F\n",
    "\n",
    "spark = SparkSession.builder.getOrCreate()"
   ]
  },
  {
   "cell_type": "code",
   "execution_count": 2,
   "metadata": {},
   "outputs": [
    {
     "name": "stderr",
     "output_type": "stream",
     "text": [
      "                                                                                \r"
     ]
    },
    {
     "name": "stdout",
     "output_type": "stream",
     "text": [
      "+---+----+------+---+\n",
      "| id|name|salary|dep|\n",
      "+---+----+------+---+\n",
      "|  1| kim|  2000|  2|\n",
      "|  2|hong|  3000|  1|\n",
      "|  3| Lee|  1000|  4|\n",
      "+---+----+------+---+\n",
      "\n",
      "+---+-------+\n",
      "| id|   name|\n",
      "+---+-------+\n",
      "|  1|     IT|\n",
      "|  2|     HR|\n",
      "|  3|Payroll|\n",
      "+---+-------+\n",
      "\n"
     ]
    }
   ],
   "source": [
    "data_a = [(1,'kim',2000,2),(2,'hong',3000,1),(3,'Lee',1000,4)]\n",
    "data_a_schema = ['id','name','salary','dep']\n",
    "\n",
    "data_b = [(1,'IT'),(2,'HR'),(3,'Payroll')]\n",
    "data_b_schema = ['id','name']\n",
    "\n",
    "empDf = spark.createDataFrame(data_a, data_a_schema)\n",
    "depDf = spark.createDataFrame(data_b, data_b_schema)\n",
    "\n",
    "empDf.show()\n",
    "depDf.show()"
   ]
  },
  {
   "cell_type": "markdown",
   "metadata": {},
   "source": [
    "### Inner join"
   ]
  },
  {
   "cell_type": "code",
   "execution_count": 3,
   "metadata": {},
   "outputs": [
    {
     "name": "stdout",
     "output_type": "stream",
     "text": [
      "+---+----+------+---+---+----+\n",
      "| id|name|salary|dep| id|name|\n",
      "+---+----+------+---+---+----+\n",
      "|  2|hong|  3000|  1|  1|  IT|\n",
      "|  1| kim|  2000|  2|  2|  HR|\n",
      "+---+----+------+---+---+----+\n",
      "\n"
     ]
    }
   ],
   "source": [
    "joinExpression = empDf['dep']==depDf['id']\n",
    "\n",
    "inner_join = empDf.join(other=depDf, on=joinExpression, how='inner')\n",
    "\n",
    "inner_join.show()"
   ]
  },
  {
   "cell_type": "markdown",
   "metadata": {},
   "source": [
    "### Left and Right Outer join"
   ]
  },
  {
   "cell_type": "code",
   "execution_count": 4,
   "metadata": {},
   "outputs": [
    {
     "name": "stdout",
     "output_type": "stream",
     "text": [
      "+---+----+------+---+----+----+\n",
      "| id|name|salary|dep|  id|name|\n",
      "+---+----+------+---+----+----+\n",
      "|  1| kim|  2000|  2|   2|  HR|\n",
      "|  2|hong|  3000|  1|   1|  IT|\n",
      "|  3| Lee|  1000|  4|NULL|NULL|\n",
      "+---+----+------+---+----+----+\n",
      "\n"
     ]
    }
   ],
   "source": [
    "joinExpression = empDf['dep']==depDf['id']\n",
    "\n",
    "left_outer_join = empDf.join(other=depDf, on=joinExpression, how='left_outer')\n",
    "\n",
    "left_outer_join.show()"
   ]
  },
  {
   "cell_type": "code",
   "execution_count": 5,
   "metadata": {},
   "outputs": [
    {
     "name": "stdout",
     "output_type": "stream",
     "text": [
      "+----+----+------+----+---+-------+\n",
      "|  id|name|salary| dep| id|   name|\n",
      "+----+----+------+----+---+-------+\n",
      "|   2|hong|  3000|   1|  1|     IT|\n",
      "|   1| kim|  2000|   2|  2|     HR|\n",
      "|NULL|NULL|  NULL|NULL|  3|Payroll|\n",
      "+----+----+------+----+---+-------+\n",
      "\n"
     ]
    }
   ],
   "source": [
    "joinExpression = empDf['dep']==depDf['id']\n",
    "\n",
    "right_outer_join = empDf.join(other=depDf, on=joinExpression, how='right_outer')\n",
    "\n",
    "right_outer_join.show()"
   ]
  },
  {
   "cell_type": "markdown",
   "metadata": {},
   "source": [
    "### Full-outer join"
   ]
  },
  {
   "cell_type": "code",
   "execution_count": 6,
   "metadata": {},
   "outputs": [
    {
     "name": "stdout",
     "output_type": "stream",
     "text": [
      "+----+----+------+----+----+-------+\n",
      "|  id|name|salary| dep|  id|   name|\n",
      "+----+----+------+----+----+-------+\n",
      "|   2|hong|  3000|   1|   1|     IT|\n",
      "|   1| kim|  2000|   2|   2|     HR|\n",
      "|NULL|NULL|  NULL|NULL|   3|Payroll|\n",
      "|   3| Lee|  1000|   4|NULL|   NULL|\n",
      "+----+----+------+----+----+-------+\n",
      "\n"
     ]
    }
   ],
   "source": [
    "joinExpression = empDf['dep']==depDf['id']\n",
    "\n",
    "full_outer_join = empDf.join(other=depDf, on=joinExpression, how='full_outer')\n",
    "\n",
    "full_outer_join.show()"
   ]
  },
  {
   "cell_type": "markdown",
   "metadata": {},
   "source": [
    "### Left Semi-join and Left Anti-join"
   ]
  },
  {
   "cell_type": "code",
   "execution_count": 7,
   "metadata": {},
   "outputs": [
    {
     "name": "stdout",
     "output_type": "stream",
     "text": [
      "+---+----+------+---+\n",
      "| id|name|salary|dep|\n",
      "+---+----+------+---+\n",
      "|  2|hong|  3000|  1|\n",
      "|  1| kim|  2000|  2|\n",
      "+---+----+------+---+\n",
      "\n"
     ]
    }
   ],
   "source": [
    "joinExpression = empDf['dep']==depDf['id']\n",
    "\n",
    "left_semi_join = empDf.join(other=depDf, on=joinExpression, how='left_semi')\n",
    "\n",
    "left_semi_join.show()"
   ]
  },
  {
   "cell_type": "code",
   "execution_count": 8,
   "metadata": {},
   "outputs": [
    {
     "name": "stdout",
     "output_type": "stream",
     "text": [
      "+---+----+------+---+\n",
      "| id|name|salary|dep|\n",
      "+---+----+------+---+\n",
      "|  3| Lee|  1000|  4|\n",
      "+---+----+------+---+\n",
      "\n"
     ]
    }
   ],
   "source": [
    "joinExpression = empDf['dep']==depDf['id']\n",
    "\n",
    "left_anti_join = empDf.join(other=depDf, on=joinExpression, how='left_anti')\n",
    "\n",
    "left_anti_join.show()"
   ]
  },
  {
   "cell_type": "markdown",
   "metadata": {},
   "source": [
    "### Cross join"
   ]
  },
  {
   "cell_type": "code",
   "execution_count": 9,
   "metadata": {},
   "outputs": [
    {
     "name": "stdout",
     "output_type": "stream",
     "text": [
      "+---+----+------+---+---+----+\n",
      "| id|name|salary|dep| id|name|\n",
      "+---+----+------+---+---+----+\n",
      "|  2|hong|  3000|  1|  1|  IT|\n",
      "|  1| kim|  2000|  2|  2|  HR|\n",
      "+---+----+------+---+---+----+\n",
      "\n"
     ]
    }
   ],
   "source": [
    "joinExpression = empDf['dep']==depDf['id']\n",
    "\n",
    "cross_join = empDf.join(other=depDf, on=joinExpression, how='cross')\n",
    "\n",
    "cross_join.show()"
   ]
  }
 ],
 "metadata": {
  "kernelspec": {
   "display_name": "pyspark",
   "language": "python",
   "name": "python3"
  },
  "language_info": {
   "codemirror_mode": {
    "name": "ipython",
    "version": 3
   },
   "file_extension": ".py",
   "mimetype": "text/x-python",
   "name": "python",
   "nbconvert_exporter": "python",
   "pygments_lexer": "ipython3",
   "version": "3.8.18"
  }
 },
 "nbformat": 4,
 "nbformat_minor": 2
}
