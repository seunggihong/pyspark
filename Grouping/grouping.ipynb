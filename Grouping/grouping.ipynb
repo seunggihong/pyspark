{
 "cells": [
  {
   "cell_type": "markdown",
   "metadata": {},
   "source": [
    "### Make Data with PySpark"
   ]
  },
  {
   "cell_type": "code",
   "execution_count": 1,
   "metadata": {},
   "outputs": [
    {
     "name": "stderr",
     "output_type": "stream",
     "text": [
      "24/01/16 23:50:37 WARN Utils: Your hostname, hongseung-giui-MacBookPro.local resolves to a loopback address: 127.0.0.1; using 192.0.0.2 instead (on interface en0)\n",
      "24/01/16 23:50:37 WARN Utils: Set SPARK_LOCAL_IP if you need to bind to another address\n",
      "Setting default log level to \"WARN\".\n",
      "To adjust logging level use sc.setLogLevel(newLevel). For SparkR, use setLogLevel(newLevel).\n",
      "24/01/16 23:50:37 WARN NativeCodeLoader: Unable to load native-hadoop library for your platform... using builtin-java classes where applicable\n",
      "24/01/16 23:50:38 WARN Utils: Service 'SparkUI' could not bind on port 4040. Attempting port 4041.\n"
     ]
    }
   ],
   "source": [
    "from pyspark.sql import SparkSession\n",
    "import pyspark.sql.functions as F\n",
    "\n",
    "spark = SparkSession.builder.getOrCreate()"
   ]
  },
  {
   "cell_type": "code",
   "execution_count": 2,
   "metadata": {},
   "outputs": [
    {
     "name": "stderr",
     "output_type": "stream",
     "text": [
      "                                                                                \r"
     ]
    },
    {
     "name": "stdout",
     "output_type": "stream",
     "text": [
      "+---+-----+------+------+-------+\n",
      "| id| name|gender|salary|    dep|\n",
      "+---+-----+------+------+-------+\n",
      "|  1| Hong|     M|  5000|     IT|\n",
      "|  2|  Lee|     M|  1000|Payroll|\n",
      "|  3|Hwang|     F|  2000|     IT|\n",
      "|  4| Song|     M|  3000|     HR|\n",
      "|  5|  Kim|     F|  1500|     HR|\n",
      "|  6| Park|     M|  2500|Payroll|\n",
      "|  7|  Son|     F|  5500|     IT|\n",
      "+---+-----+------+------+-------+\n",
      "\n"
     ]
    },
    {
     "name": "stderr",
     "output_type": "stream",
     "text": [
      "24/01/16 23:50:52 WARN GarbageCollectionMetrics: To enable non-built-in garbage collector(s) List(G1 Concurrent GC), users should configure it(them) to spark.eventLog.gcMetrics.youngGenerationGarbageCollectors or spark.eventLog.gcMetrics.oldGenerationGarbageCollectors\n"
     ]
    }
   ],
   "source": [
    "data = [\n",
    "    (1,'Hong','M',5000,'IT'),\n",
    "    (2,'Lee','M',1000,'Payroll'),\n",
    "    (3,'Hwang','F',2000,'IT'),\n",
    "    (4,'Song','M',3000,'HR'),\n",
    "    (5,'Kim','F',1500,'HR'),\n",
    "    (6,'Park','M',2500,'Payroll'),\n",
    "    (7,'Son','F',5500,'IT')\n",
    "]\n",
    "\n",
    "data_schema = ['id','name','gender','salary','dep']\n",
    "\n",
    "df = spark.createDataFrame(data, data_schema)\n",
    "\n",
    "df.show()"
   ]
  },
  {
   "cell_type": "markdown",
   "metadata": {},
   "source": [
    "### Using groupby method"
   ]
  },
  {
   "cell_type": "code",
   "execution_count": 6,
   "metadata": {},
   "outputs": [
    {
     "name": "stdout",
     "output_type": "stream",
     "text": [
      "+-------+-----+\n",
      "|    dep|count|\n",
      "+-------+-----+\n",
      "|     IT|    3|\n",
      "|Payroll|    2|\n",
      "|     HR|    2|\n",
      "+-------+-----+\n",
      "\n"
     ]
    }
   ],
   "source": [
    "count = df.groupBy('dep').count()\n",
    "\n",
    "count.show()"
   ]
  },
  {
   "cell_type": "code",
   "execution_count": 13,
   "metadata": {},
   "outputs": [
    {
     "name": "stdout",
     "output_type": "stream",
     "text": [
      "+------+---+-------+-----------+\n",
      "|salary| id|max(id)|max(salary)|\n",
      "+------+---+-------+-----------+\n",
      "|  5000|  1|      1|       5000|\n",
      "|  1000|  2|      2|       1000|\n",
      "|  2000|  3|      3|       2000|\n",
      "|  3000|  4|      4|       3000|\n",
      "|  1500|  5|      5|       1500|\n",
      "|  2500|  6|      6|       2500|\n",
      "|  5500|  7|      7|       5500|\n",
      "+------+---+-------+-----------+\n",
      "\n"
     ]
    }
   ],
   "source": [
    "df_max = df.groupBy(['salary', 'id']).max()\n",
    "df_max.show()"
   ]
  },
  {
   "cell_type": "markdown",
   "metadata": {},
   "source": [
    "### Using aggregating method"
   ]
  },
  {
   "cell_type": "code",
   "execution_count": 14,
   "metadata": {},
   "outputs": [
    {
     "name": "stdout",
     "output_type": "stream",
     "text": [
      "+-------+-----------+-----------+-----------+-----------------+\n",
      "|    dep|max(salary)|min(salary)|sum(salary)|      avg(salary)|\n",
      "+-------+-----------+-----------+-----------+-----------------+\n",
      "|     IT|       5500|       2000|      12500|4166.666666666667|\n",
      "|Payroll|       2500|       1000|       3500|           1750.0|\n",
      "|     HR|       3000|       1500|       4500|           2250.0|\n",
      "+-------+-----------+-----------+-----------+-----------------+\n",
      "\n"
     ]
    }
   ],
   "source": [
    "agg_df = df.groupBy('dep').agg(\n",
    "    F.max('salary'),\n",
    "    F.min('salary'),\n",
    "    F.sum('salary'),\n",
    "    F.avg('salary'),\n",
    ")\n",
    "\n",
    "agg_df.show()"
   ]
  }
 ],
 "metadata": {
  "kernelspec": {
   "display_name": "pyspark",
   "language": "python",
   "name": "python3"
  },
  "language_info": {
   "codemirror_mode": {
    "name": "ipython",
    "version": 3
   },
   "file_extension": ".py",
   "mimetype": "text/x-python",
   "name": "python",
   "nbconvert_exporter": "python",
   "pygments_lexer": "ipython3",
   "version": "3.8.18"
  }
 },
 "nbformat": 4,
 "nbformat_minor": 2
}
