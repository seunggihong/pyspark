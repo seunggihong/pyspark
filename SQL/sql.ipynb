{
 "cells": [
  {
   "cell_type": "markdown",
   "metadata": {},
   "source": [
    "### Load Data with PySpark"
   ]
  },
  {
   "cell_type": "code",
   "execution_count": 1,
   "metadata": {},
   "outputs": [
    {
     "name": "stderr",
     "output_type": "stream",
     "text": [
      "24/01/24 14:58:51 WARN Utils: Your hostname, hongseung-giui-MacBookPro.local resolves to a loopback address: 127.0.0.1; using 100.100.104.37 instead (on interface en0)\n",
      "24/01/24 14:58:51 WARN Utils: Set SPARK_LOCAL_IP if you need to bind to another address\n",
      "Setting default log level to \"WARN\".\n",
      "To adjust logging level use sc.setLogLevel(newLevel). For SparkR, use setLogLevel(newLevel).\n",
      "24/01/24 14:58:51 WARN NativeCodeLoader: Unable to load native-hadoop library for your platform... using builtin-java classes where applicable\n"
     ]
    }
   ],
   "source": [
    "from pyspark.sql import SparkSession\n",
    "from pyspark.sql.utils import AnalysisException\n",
    "import pyspark.sql.functions as F\n",
    "import pyspark.sql.types as T\n",
    "\n",
    "spark = SparkSession.builder.getOrCreate()"
   ]
  },
  {
   "cell_type": "code",
   "execution_count": 2,
   "metadata": {},
   "outputs": [
    {
     "name": "stdout",
     "output_type": "stream",
     "text": [
      "+------------+----------+------+----------+----------------+---------------+-----------------+------+-----+-----+-----------+-------+-----+--------+---------+--------------------+------------+-----------------+---------------+-------+------------+------------+----------------+-------------------+----+------------+--------------+---------------+\n",
      "|AtomicNumber|   Element|Symbol|AtomicMass|NumberofNeutrons|NumberofProtons|NumberofElectrons|Period|Group|Phase|Radioactive|Natural|Metal|Nonmetal|Metalloid|                Type|AtomicRadius|Electronegativity|FirstIonization|Density|MeltingPoint|BoilingPoint|NumberOfIsotopes|         Discoverer|Year|SpecificHeat|NumberofShells|NumberofValence|\n",
      "+------------+----------+------+----------+----------------+---------------+-----------------+------+-----+-----+-----------+-------+-----+--------+---------+--------------------+------------+-----------------+---------------+-------+------------+------------+----------------+-------------------+----+------------+--------------+---------------+\n",
      "|           1|  Hydrogen|     H|     1.007|               0|              1|                1|     1|    1|  gas|       NULL|    yes| NULL|     yes|     NULL|            Nonmetal|        0.79|              2.2|        13.5984|8.99E-5|      14.175|       20.28|               3|          Cavendish|1766|      14.304|             1|              1|\n",
      "|           2|    Helium|    He|     4.002|               2|              2|                2|     1|   18|  gas|       NULL|    yes| NULL|     yes|     NULL|           Noble Gas|        0.49|             NULL|        24.5874|1.79E-4|        NULL|        4.22|               5|            Janssen|1868|       5.193|             1|           NULL|\n",
      "|           3|   Lithium|    Li|     6.941|               4|              3|                3|     2|    1|solid|       NULL|    yes|  yes|    NULL|     NULL|        Alkali Metal|         2.1|             0.98|         5.3917|  0.534|      453.85|      1615.0|               5|          Arfvedson|1817|       3.582|             2|              1|\n",
      "|           4| Beryllium|    Be|     9.012|               5|              4|                4|     2|    2|solid|       NULL|    yes|  yes|    NULL|     NULL|Alkaline Earth Metal|         1.4|             1.57|         9.3227|   1.85|     1560.15|      2742.0|               6|         Vaulquelin|1798|       1.825|             2|              2|\n",
      "|           5|     Boron|     B|    10.811|               6|              5|                5|     2|   13|solid|       NULL|    yes| NULL|    NULL|      yes|           Metalloid|         1.2|             2.04|          8.298|   2.34|     2573.15|      4200.0|               6|         Gay-Lussac|1808|       1.026|             2|              3|\n",
      "|           6|    Carbon|     C|    12.011|               6|              6|                6|     2|   14|solid|       NULL|    yes| NULL|     yes|     NULL|            Nonmetal|        0.91|             2.55|        11.2603|   2.27|     3948.15|      4300.0|               7|        Prehistoric|NULL|       0.709|             2|              4|\n",
      "|           7|  Nitrogen|     N|    14.007|               7|              7|                7|     2|   15|  gas|       NULL|    yes| NULL|     yes|     NULL|            Nonmetal|        0.75|             3.04|        14.5341|0.00125|       63.29|       77.36|               8|         Rutherford|1772|        1.04|             2|              5|\n",
      "|           8|    Oxygen|     O|    15.999|               8|              8|                8|     2|   16|  gas|       NULL|    yes| NULL|     yes|     NULL|            Nonmetal|        0.65|             3.44|        13.6181|0.00143|        50.5|        90.2|               8|  Priestley/Scheele|1774|       0.918|             2|              6|\n",
      "|           9|  Fluorine|     F|    18.998|              10|              9|                9|     2|   17|  gas|       NULL|    yes| NULL|     yes|     NULL|             Halogen|        0.57|             3.98|        17.4228| 0.0017|       53.63|       85.03|               6|            Moissan|1886|       0.824|             2|              7|\n",
      "|          10|      Neon|    Ne|     20.18|              10|             10|               10|     2|   18|  gas|       NULL|    yes| NULL|     yes|     NULL|           Noble Gas|        0.51|             NULL|        21.5645| 9.0E-4|      24.703|       27.07|               8| Ramsay and Travers|1898|        1.03|             2|              8|\n",
      "|          11|    Sodium|    Na|     22.99|              12|             11|               11|     3|    1|solid|       NULL|    yes|  yes|    NULL|     NULL|        Alkali Metal|         2.2|             0.93|         5.1391|  0.971|      371.15|      1156.0|               7|               Davy|1807|       1.228|             3|              1|\n",
      "|          12| Magnesium|    Mg|    24.305|              12|             12|               12|     3|    2|solid|       NULL|    yes|  yes|    NULL|     NULL|Alkaline Earth Metal|         1.7|             1.31|         7.6462|   1.74|      923.15|      1363.0|               8|              Black|1755|       1.023|             3|              2|\n",
      "|          13|  Aluminum|    Al|    26.982|              14|             13|               13|     3|   13|solid|       NULL|    yes|  yes|    NULL|     NULL|               Metal|         1.8|             1.61|         5.9858|    2.7|       933.4|      2792.0|               8|             Wshler|1827|       0.897|             3|              3|\n",
      "|          14|   Silicon|    Si|    28.086|              14|             14|               14|     3|   14|solid|       NULL|    yes| NULL|    NULL|      yes|           Metalloid|         1.5|              1.9|         8.1517|   2.33|     1683.15|      3538.0|               8|          Berzelius|1824|       0.705|             3|              4|\n",
      "|          15|Phosphorus|     P|    30.974|              16|             15|               15|     3|   15|solid|       NULL|    yes| NULL|     yes|     NULL|            Nonmetal|         1.2|             2.19|        10.4867|   1.82|      317.25|       553.0|               7|          BranBrand|1669|       0.769|             3|              5|\n",
      "|          16|    Sulfur|     S|    32.065|              16|             16|               16|     3|   16|solid|       NULL|    yes| NULL|     yes|     NULL|            Nonmetal|         1.1|             2.58|          10.36|   2.07|      388.51|       717.8|              10|        Prehistoric|NULL|        0.71|             3|              6|\n",
      "|          17|  Chlorine|    Cl|    35.453|              18|             17|               17|     3|   17|  gas|       NULL|    yes| NULL|     yes|     NULL|             Halogen|        0.97|             3.16|        12.9676|0.00321|      172.31|      239.11|              11|            Scheele|1774|       0.479|             3|              7|\n",
      "|          18|     Argon|    Ar|    39.948|              22|             18|               18|     3|   18|  gas|       NULL|    yes| NULL|     yes|     NULL|           Noble Gas|        0.88|             NULL|        15.7596|0.00178|       83.96|        87.3|               8|Rayleigh and Ramsay|1894|        0.52|             3|              8|\n",
      "|          19| Potassium|     K|    39.098|              20|             19|               19|     4|    1|solid|       NULL|    yes|  yes|    NULL|     NULL|        Alkali Metal|         2.8|             0.82|         4.3407|  0.862|       336.5|      1032.0|              10|               Davy|1807|       0.757|             4|              1|\n",
      "|          20|   Calcium|    Ca|    40.078|              20|             20|               20|     4|    2|solid|       NULL|    yes|  yes|    NULL|     NULL|Alkaline Earth Metal|         2.2|              1.0|         6.1132|   1.54|     1112.15|      1757.0|              14|               Davy|1808|       0.647|             4|              2|\n",
      "+------------+----------+------+----------+----------------+---------------+-----------------+------+-----+-----+-----------+-------+-----+--------+---------+--------------------+------------+-----------------+---------------+-------+------------+------------+----------------+-------------------+----+------------+--------------+---------------+\n",
      "only showing top 20 rows\n",
      "\n"
     ]
    },
    {
     "name": "stderr",
     "output_type": "stream",
     "text": [
      "24/01/24 14:59:31 WARN SparkStringUtils: Truncated the string representation of a plan since it was too large. This behavior can be adjusted by setting 'spark.sql.debug.maxToStringFields'.\n"
     ]
    }
   ],
   "source": [
    "elements = spark.read.csv(\"./data/Periodic_Table_Of_Elements.csv\", header=True, inferSchema=True)\n",
    "\n",
    "elements.show()"
   ]
  }
 ],
 "metadata": {
  "kernelspec": {
   "display_name": "pyspark",
   "language": "python",
   "name": "python3"
  },
  "language_info": {
   "codemirror_mode": {
    "name": "ipython",
    "version": 3
   },
   "file_extension": ".py",
   "mimetype": "text/x-python",
   "name": "python",
   "nbconvert_exporter": "python",
   "pygments_lexer": "ipython3",
   "version": "3.8.18"
  }
 },
 "nbformat": 4,
 "nbformat_minor": 2
}
